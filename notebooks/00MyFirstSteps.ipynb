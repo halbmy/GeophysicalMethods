{
 "cells": [
  {
   "cell_type": "markdown",
   "id": "01d0ea9c",
   "metadata": {},
   "source": [
    "# Introduction\n",
    "## The gravitational force of the earth\n",
    "\n",
    "Task:\n",
    "* compute earths acceleration and compare with our expectations (9.81 m/s^2)\n",
    "\n",
    "Let the Earth's mass be  5.9722e24 kg\n",
    "The mean Earth's radius is 6731km\n",
    "\n",
    "One can compute the gravitational force by the formula\n",
    "\n",
    "$$ \\vec g = - G \\frac{M}{r^2} \\frac{\\vec r}{r} $$ \n",
    "\n",
    "where $G$ is the gravitation constant, $M$ the mass of the body and $\\vec$ is the vector from the mass center to the point of observation."
   ]
  },
  {
   "cell_type": "code",
   "execution_count": 5,
   "id": "c90074c3",
   "metadata": {},
   "outputs": [
    {
     "data": {
      "text/plain": [
       "9.820302293385645"
      ]
     },
     "execution_count": 5,
     "metadata": {},
     "output_type": "execute_result"
    }
   ],
   "source": [
    "M = 5.9722e24  # kg\n",
    "G = 6.6743e-11  # m^3/(kg*s^2)\n",
    "R = 6371 * 1000 # km => m\n",
    "g = M * G / R**2\n",
    "g"
   ]
  },
  {
   "cell_type": "code",
   "execution_count": 34,
   "id": "16c8cdab",
   "metadata": {},
   "outputs": [
    {
     "data": {
      "text/plain": [
       "7.3364716629854785"
      ]
     },
     "execution_count": 34,
     "metadata": {},
     "output_type": "execute_result"
    }
   ],
   "source": [
    "R2 = R + 1000e3\n",
    "g = M * G / R2**2\n",
    "g"
   ]
  },
  {
   "cell_type": "code",
   "execution_count": 36,
   "id": "1549cf6a",
   "metadata": {},
   "outputs": [
    {
     "data": {
      "text/plain": [
       "0.002703196510145399"
      ]
     },
     "execution_count": 36,
     "metadata": {},
     "output_type": "execute_result"
    }
   ],
   "source": [
    "Rmoon = 384000*1000\n",
    "g = M * G / Rmoon**2\n",
    "g"
   ]
  },
  {
   "cell_type": "markdown",
   "id": "c80dd08d",
   "metadata": {},
   "source": [
    "What's the mean density of the Earth?"
   ]
  },
  {
   "cell_type": "code",
   "execution_count": 33,
   "id": "ce4c0493",
   "metadata": {},
   "outputs": [
    {
     "data": {
      "text/plain": [
       "5516.239874049369"
      ]
     },
     "execution_count": 33,
     "metadata": {},
     "output_type": "execute_result"
    }
   ],
   "source": [
    "V = 4 / 3 * R**3 * 3.14\n",
    "D = M / V\n",
    "D"
   ]
  },
  {
   "cell_type": "code",
   "execution_count": 9,
   "id": "3623051f",
   "metadata": {},
   "outputs": [
    {
     "data": {
      "text/plain": [
       "[1, 'a', 3, 5, 6, 7]"
      ]
     },
     "execution_count": 9,
     "metadata": {},
     "output_type": "execute_result"
    }
   ],
   "source": [
    "a = [1, \"a\", 3]\n",
    "b = [5, 6, 7]\n",
    "a + b"
   ]
  },
  {
   "cell_type": "code",
   "execution_count": 10,
   "id": "7c8ede3b",
   "metadata": {},
   "outputs": [],
   "source": [
    "# The numerics library numpy\n",
    "import numpy as np"
   ]
  },
  {
   "cell_type": "code",
   "execution_count": 22,
   "id": "7043804b",
   "metadata": {},
   "outputs": [
    {
     "data": {
      "text/plain": [
       "array([ 6,  8, 10])"
      ]
     },
     "execution_count": 22,
     "metadata": {},
     "output_type": "execute_result"
    }
   ],
   "source": [
    "a = np.array([1, 2, 3])\n",
    "b = np.array([5, 6, 7])\n",
    "a + b"
   ]
  },
  {
   "cell_type": "code",
   "execution_count": 15,
   "id": "40c8307a",
   "metadata": {},
   "outputs": [
    {
     "name": "stdout",
     "output_type": "stream",
     "text": [
      "36\n",
      "64\n",
      "100\n"
     ]
    }
   ],
   "source": [
    "for x in a+b:\n",
    "    print(x**2)"
   ]
  },
  {
   "cell_type": "code",
   "execution_count": 16,
   "id": "1fc1bd70",
   "metadata": {},
   "outputs": [
    {
     "name": "stdout",
     "output_type": "stream",
     "text": [
      "0 6 36\n",
      "1 8 64\n",
      "2 10 100\n"
     ]
    }
   ],
   "source": [
    "for i, x in enumerate(a+b):\n",
    "    print(i, x, x**2)"
   ]
  },
  {
   "cell_type": "code",
   "execution_count": 17,
   "id": "c2c0b0ad",
   "metadata": {},
   "outputs": [],
   "source": [
    "import matplotlib.pyplot as plt"
   ]
  },
  {
   "cell_type": "code",
   "execution_count": 27,
   "id": "45cfc5d8",
   "metadata": {},
   "outputs": [
    {
     "data": {
      "image/png": "[encoded data removed]",
      "text/plain": [
       "<Figure size 432x288 with 1 Axes>"
      ]
     },
     "metadata": {
      "needs_background": "light"
     },
     "output_type": "display_data"
    }
   ],
   "source": [
    "plt.plot(a, np.sqrt(b), \"*-\", color=\"darkgreen\", markersize=20);"
   ]
  },
  {
   "cell_type": "code",
   "execution_count": 2,
   "id": "ce098921",
   "metadata": {},
   "outputs": [],
   "source": [
    "import pygimli as pg"
   ]
  },
  {
   "cell_type": "code",
   "execution_count": 3,
   "id": "6ea5de3c",
   "metadata": {},
   "outputs": [
    {
     "data": {
      "image/png": "[encoded data removed]",
      "text/plain": [
       "<Figure size 432x288 with 2 Axes>"
      ]
     },
     "metadata": {
      "needs_background": "light"
     },
     "output_type": "display_data"
    }
   ],
   "source": [
    "circle = pg.meshtools.createCircle()\n",
    "pg.show(circle);"
   ]
  },
  {
   "cell_type": "markdown",
   "id": "c944f65c",
   "metadata": {},
   "source": [
    "How to run Jupyter Notebooks?\n",
    "\n",
    "1. Install Anaconda distribution\n",
    "2. Use Google Colab http://colab.research.google.com\n",
    "3. Check out http://try.pygimli.org"
   ]
  }
 ],
 "metadata": {
  "hide_input": false,
  "kernelspec": {
   "display_name": "Python 3 (ipykernel)",
   "language": "python",
   "name": "python3"
  },
  "language_info": {
   "codemirror_mode": {
    "name": "ipython",
    "version": 3
   },
   "file_extension": ".py",
   "mimetype": "text/x-python",
   "name": "python",
   "nbconvert_exporter": "python",
   "pygments_lexer": "ipython3",
   "version": "3.8.13"
  },
  "toc": {
   "base_numbering": 1,
   "nav_menu": {},
   "number_sections": true,
   "sideBar": true,
   "skip_h1_title": false,
   "title_cell": "Table of Contents",
   "title_sidebar": "Contents",
   "toc_cell": false,
   "toc_position": {},
   "toc_section_display": true,
   "toc_window_display": false
  },
  "varInspector": {
   "cols": {
    "lenName": 16,
    "lenType": 16,
    "lenVar": 40
   },
   "kernels_config": {
    "python": {
     "delete_cmd_postfix": "",
     "delete_cmd_prefix": "del ",
     "library": "var_list.py",
     "varRefreshCmd": "print(var_dic_list())"
    },
    "r": {
     "delete_cmd_postfix": ") ",
     "delete_cmd_prefix": "rm(",
     "library": "var_list.r",
     "varRefreshCmd": "cat(var_dic_list()) "
    }
   },
   "types_to_exclude": [
    "module",
    "function",
    "builtin_function_or_method",
    "instance",
    "_Feature"
   ],
   "window_display": false
  }
 },
 "nbformat": 4,
 "nbformat_minor": 5
}
